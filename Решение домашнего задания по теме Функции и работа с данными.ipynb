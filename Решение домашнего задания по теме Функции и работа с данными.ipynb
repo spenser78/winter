{
 "cells": [
  {
   "cell_type": "markdown",
   "metadata": {},
   "source": [
    "Задание 1**\n",
    "Напишите функцию, которая классифицирует фильмы из материалов занятия по следующим правилам:\n",
    "- оценка 2 и меньше - низкий рейтинг\n",
    "- оценка 4 и меньше - средний рейтинг\n",
    "- оценка 4.5 и 5 - высокий рейтинг\n",
    "\n",
    "Результат классификации запишите в столбец class"
   ]
  },
  {
   "cell_type": "code",
   "execution_count": 58,
   "metadata": {},
   "outputs": [
    {
     "data": {
      "text/plain": [
       "средний рейтинг    46271\n",
       "низкий рейтинг      5279\n",
       "undefined           1209\n",
       "высокий рейтинг     1130\n",
       "Name: class, dtype: int64"
      ]
     },
     "execution_count": 58,
     "metadata": {},
     "output_type": "execute_result"
    }
   ],
   "source": [
    "import pandas as pd\n",
    "\n",
    "data = pd.read_csv('ratings.csv')\n",
    "\n",
    "data_grouped_by_films = data.groupby('movieId')   #сгруппировать фильмы по рейтингу\n",
    "films_by_rating = data_grouped_by_films['rating'].mean().reset_index() \n",
    "\n",
    "#написать функцию, которая будет присваивать рейтинг в зависимости от диапазона, в котором оказалась оценка\n",
    "\n",
    "def type_of_rating(row):\n",
    "    if row <= 2:\n",
    "        return 'низкий рейтинг'\n",
    "    elif row <= 4:\n",
    "        return 'средний рейтинг'\n",
    "    elif row == 4.5 or row == 5:\n",
    "        return 'высокий рейтинг'\n",
    "    else:\n",
    "        return 'undefined'\n",
    "    \n",
    "    \n",
    "films_by_rating['class'] = films_by_rating['rating'].apply(type_of_rating)\n",
    "\n",
    "films_by_rating['class'].value_counts()"
   ]
  },
  {
   "cell_type": "code",
   "execution_count": null,
   "metadata": {},
   "outputs": [],
   "source": []
  },
  {
   "cell_type": "markdown",
   "metadata": {},
   "source": [
    "Задание 2\n",
    "Используем файл keywords.csv.\n",
    "\n",
    "Необходимо написать гео-классификатор, который каждой строке сможет выставить географическую принадлежность определенному региону. Т. е. если поисковый запрос содержит название города региона, то в столбце ‘region’ пишется название этого региона. Если поисковый запрос не содержит названия города, то ставим ‘undefined’.\n",
    "\n",
    "Правила распределения по регионам Центр, Северо-Запад и Дальний Восток:\n",
    "\n",
    "geo_data = {\n",
    "\n",
    "1\n",
    "2\n",
    "3\n",
    "4\n",
    "5\n",
    "'Центр': ['москва', 'тула', 'ярославль'],\n",
    "\n",
    "'Северо-Запад': ['петербург', 'псков', 'мурманск'],\n",
    "\n",
    "'Дальний Восток': ['владивосток', 'сахалин', 'хабаровск']\n",
    "}\n",
    "\n",
    "Результат классификации запишите в отдельный столбец region."
   ]
  },
  {
   "cell_type": "code",
   "execution_count": 63,
   "metadata": {},
   "outputs": [
    {
     "data": {
      "text/plain": [
       "undefined         99406\n",
       "Центр               384\n",
       "Северо-Запад        146\n",
       "Дальний Восток       64\n",
       "Name: region, dtype: int64"
      ]
     },
     "execution_count": 63,
     "metadata": {},
     "output_type": "execute_result"
    }
   ],
   "source": [
    "import pandas as pd\n",
    "\n",
    "geo_data = {'Центр': ['москва', 'тула', 'ярославль'],\n",
    "\n",
    "'Северо-Запад': ['петербург', 'псков', 'мурманск'],\n",
    "\n",
    "'Дальний Восток': ['владивосток', 'сахалин', 'хабаровск'] }\n",
    "\n",
    "data = pd.read_csv('keywords.csv')\n",
    "\n",
    "geo_data_reversed = {}\n",
    "\n",
    "for key, value in geo_data.items():\n",
    "    for i in value:\n",
    "        geo_data_reversed[i] = key\n",
    "\n",
    "\n",
    "def allocation_region(row):\n",
    "    row = row.lower()\n",
    "    keywords = row.split(' ')\n",
    "    for keyword in keywords:\n",
    "        if keyword in geo_data_reversed.keys():\n",
    "            return geo_data_reversed[keyword]\n",
    "    return 'undefined'\n",
    "\n",
    "    \n",
    "        \n",
    "data['region'] = data['keyword'].apply(allocation_region)\n",
    "data['region'].value_counts()"
   ]
  },
  {
   "cell_type": "code",
   "execution_count": null,
   "metadata": {},
   "outputs": [],
   "source": []
  }
 ],
 "metadata": {
  "kernelspec": {
   "display_name": "Python 3",
   "language": "python",
   "name": "python3"
  },
  "language_info": {
   "codemirror_mode": {
    "name": "ipython",
    "version": 3
   },
   "file_extension": ".py",
   "mimetype": "text/x-python",
   "name": "python",
   "nbconvert_exporter": "python",
   "pygments_lexer": "ipython3",
   "version": "3.7.6"
  }
 },
 "nbformat": 4,
 "nbformat_minor": 4
}
