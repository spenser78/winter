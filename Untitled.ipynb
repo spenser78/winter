{
 "cells": [
  {
   "cell_type": "markdown",
   "metadata": {},
   "source": [
    "Задание 1\n",
    "\n",
    "Используйте файл с оценками фильмов ml-latest-small/ratings.csv.\n",
    "\n",
    "Посчитайте среднее время жизни пользователей, которые выставили более 100 оценок.\n",
    "\n",
    "Под временем жизни понимается разница между максимальным и минимальным значением столбца timestamp для данного значения userId.\n",
    "\n",
    "\n"
   ]
  },
  {
   "cell_type": "code",
   "execution_count": 43,
   "metadata": {},
   "outputs": [
    {
     "data": {
      "text/html": [
       "<div>\n",
       "<style scoped>\n",
       "    .dataframe tbody tr th:only-of-type {\n",
       "        vertical-align: middle;\n",
       "    }\n",
       "\n",
       "    .dataframe tbody tr th {\n",
       "        vertical-align: top;\n",
       "    }\n",
       "\n",
       "    .dataframe thead th {\n",
       "        text-align: right;\n",
       "    }\n",
       "</style>\n",
       "<table border=\"1\" class=\"dataframe\">\n",
       "  <thead>\n",
       "    <tr style=\"text-align: right;\">\n",
       "      <th></th>\n",
       "      <th>min</th>\n",
       "      <th>max</th>\n",
       "      <th>count</th>\n",
       "      <th>lifetime</th>\n",
       "    </tr>\n",
       "  </thead>\n",
       "  <tbody>\n",
       "    <tr>\n",
       "      <th>3</th>\n",
       "      <td>949778714</td>\n",
       "      <td>949982274</td>\n",
       "      <td>204</td>\n",
       "      <td>2.356019</td>\n",
       "    </tr>\n",
       "    <tr>\n",
       "      <th>7</th>\n",
       "      <td>1154389340</td>\n",
       "      <td>1154474527</td>\n",
       "      <td>116</td>\n",
       "      <td>0.985961</td>\n",
       "    </tr>\n",
       "    <tr>\n",
       "      <th>14</th>\n",
       "      <td>997937239</td>\n",
       "      <td>1469330735</td>\n",
       "      <td>1700</td>\n",
       "      <td>5455.943241</td>\n",
       "    </tr>\n",
       "    <tr>\n",
       "      <th>16</th>\n",
       "      <td>1127468587</td>\n",
       "      <td>1127476640</td>\n",
       "      <td>363</td>\n",
       "      <td>0.093206</td>\n",
       "    </tr>\n",
       "    <tr>\n",
       "      <th>18</th>\n",
       "      <td>855190091</td>\n",
       "      <td>855195373</td>\n",
       "      <td>423</td>\n",
       "      <td>0.061134</td>\n",
       "    </tr>\n",
       "  </tbody>\n",
       "</table>\n",
       "</div>"
      ],
      "text/plain": [
       "           min         max  count     lifetime\n",
       "3    949778714   949982274    204     2.356019\n",
       "7   1154389340  1154474527    116     0.985961\n",
       "14   997937239  1469330735   1700  5455.943241\n",
       "16  1127468587  1127476640    363     0.093206\n",
       "18   855190091   855195373    423     0.061134"
      ]
     },
     "execution_count": 43,
     "metadata": {},
     "output_type": "execute_result"
    }
   ],
   "source": [
    "import pandas as pd\n",
    "\n",
    "ratings = pd.read_csv('ml-latest-small/ratings.csv')\n",
    "\n",
    "ratings_grouped_by_ID = ratings.groupby('userId').agg({'timestamp': ['min', 'max', 'count']}).reset_index()\n",
    "\n",
    "ratings_100_and_more = ratings_grouped_by_ID['timestamp'][ratings_grouped_by_ID['timestamp']['count'] > 100]\n",
    "\n",
    "#длительность жизни пользователя в днях. В одном дне 86400 секунд\n",
    "ratings_100_and_more['lifetime'] = (ratings_100_and_more['max'] - ratings_100_and_more['min'])/86400\n",
    "\n",
    "ratings_100_and_more.head()"
   ]
  },
  {
   "cell_type": "code",
   "execution_count": null,
   "metadata": {},
   "outputs": [],
   "source": []
  }
 ],
 "metadata": {
  "kernelspec": {
   "display_name": "Python 3",
   "language": "python",
   "name": "python3"
  },
  "language_info": {
   "codemirror_mode": {
    "name": "ipython",
    "version": 3
   },
   "file_extension": ".py",
   "mimetype": "text/x-python",
   "name": "python",
   "nbconvert_exporter": "python",
   "pygments_lexer": "ipython3",
   "version": "3.7.6"
  }
 },
 "nbformat": 4,
 "nbformat_minor": 4
}
