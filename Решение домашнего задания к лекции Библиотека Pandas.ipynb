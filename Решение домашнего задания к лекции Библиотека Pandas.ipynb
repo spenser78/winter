{
 "cells": [
  {
   "cell_type": "markdown",
   "metadata": {},
   "source": [
    "Задание 1\n",
    "Скачайте с сайта https://grouplens.org/datasets/movielens/ датасет любого размера. Определите какому фильму было выставлено больше всего оценок 5.0."
   ]
  },
  {
   "cell_type": "code",
   "execution_count": 27,
   "metadata": {},
   "outputs": [
    {
     "name": "stdout",
     "output_type": "stream",
     "text": [
      "Больше всего оценок 5.0 было выставлено фильму с ID №318\n"
     ]
    }
   ],
   "source": [
    "import pandas as pd\n",
    "\n",
    "data = pd.read_csv('ratings.csv')\n",
    "\n",
    "only_five_star_rating = data[data['rating'] == 5]\n",
    "\n",
    "winner = only_five_star_rating.groupby('movieId').count().sort_values('rating', ascending = False).reset_index()\n",
    "\n",
    "WinnerID = winner[['movieId']]\n",
    "\n",
    "result = WinnerID.loc[0, 'movieId']\n",
    "\n",
    "print(f'Больше всего оценок 5.0 было выставлено фильму с ID №{result}')\n"
   ]
  },
  {
   "cell_type": "code",
   "execution_count": null,
   "metadata": {},
   "outputs": [],
   "source": []
  },
  {
   "cell_type": "markdown",
   "metadata": {},
   "source": [
    "Задание 2\n",
    "По данным файла power.csv посчитайте суммарное потребление стран Прибалтики (Латвия, Литва и Эстония) категорий 4, 12 и 21 за период с 2005 по 2010 года. Не учитывайте в расчетах отрицательные значения quantity."
   ]
  },
  {
   "cell_type": "code",
   "execution_count": 30,
   "metadata": {},
   "outputs": [
    {
     "name": "stdout",
     "output_type": "stream",
     "text": [
      "5943\n"
     ]
    }
   ],
   "source": [
    "import pandas as pd\n",
    "\n",
    "data = pd.read_csv('power.csv')\n",
    "\n",
    "\n",
    "baltic = data[ (data['country']=='Estonia') | (data['country']=='Lithuania') | (data['country']=='Latvia') ] # оставить только значения по Латвии, Литве и Эстонии\n",
    "\n",
    "baltic_positive_quantity = baltic.query(f'quantity > {0}') # выкинуть отрицательные квантити\n",
    "\n",
    "sorted_years_all = baltic_positive_quantity[baltic_positive_quantity['year'].between(2005, 2010)] # оставить только значения с 2005 по 2010 год\n",
    "\n",
    "category_sorted = sorted_years_all[ (sorted_years_all['category']==4) | (sorted_years_all['category']==12) | (sorted_years_all['category']==21) ] # отсортировать столбец категори так, чтобы остались только 4, 12 и 21\n",
    "\n",
    "\n",
    "result = sum(category_sorted['category']) # сложить получившуюся сумму значений столбца квантити в одну переменную\n",
    "\n",
    "print(result)\n",
    "\n"
   ]
  },
  {
   "cell_type": "code",
   "execution_count": 31,
   "metadata": {
    "scrolled": true
   },
   "outputs": [
    {
     "name": "stdout",
     "output_type": "stream",
     "text": [
      "5943\n"
     ]
    }
   ],
   "source": [
    "#Альтернативное решение, которое предложил аспирант, оставю здесь для себя на память:\n",
    "\n",
    "data = pd.read_csv('power.csv')\n",
    "\n",
    "category_sorted = data[(data['country'].isin(['Estonia','Lithuania', 'Latvia'])) &\n",
    "                       (data['quantity'] > 0) &\n",
    "                       (data['year'].between(2005, 2010)) &\n",
    "                       (data['category'].isin([4, 12, 21]))]\n",
    "\n",
    "result = sum(category_sorted['category']) # сложить получившуюся сумму значений столбца квантити в одну переменную\n",
    "\n",
    "print(result)"
   ]
  },
  {
   "cell_type": "code",
   "execution_count": null,
   "metadata": {},
   "outputs": [],
   "source": []
  },
  {
   "cell_type": "markdown",
   "metadata": {},
   "source": [
    "Задание 3\n",
    "Выберите страницу любого сайта с табличными данными. Импортируйте таблицы в pandas dataframe.\n",
    "Примеры страниц (необязательно брать именно эти):\n",
    "https://fortrader.org/quotes\n",
    "https://www.finanz.ru/valyuty/v-realnom-vremeni"
   ]
  },
  {
   "cell_type": "code",
   "execution_count": 19,
   "metadata": {
    "scrolled": true
   },
   "outputs": [
    {
     "data": {
      "text/plain": [
       "[    Unnamed: 0              Рубль  Предложение  Спрос  Предыдущее закрытие  \\\n",
       " 0          NaN            GBP/RUB       991881      -               993909   \n",
       " 1          NaN            EUR/RUB       900940      -               901665   \n",
       " 2          NaN            USD/RUB       735325      -               738911   \n",
       " 3          NaN            JPY/RUB        07095      -                07119   \n",
       " 4          NaN            CNY/RUB       112593      -               113034   \n",
       " 5          NaN            CHF/RUB       829859      -               830704   \n",
       " 6          NaN               Евро  Предложение  Спрос  Предыдущее закрытие   \n",
       " 7          NaN            EUR/USD        12253      -                12209   \n",
       " 8          NaN            EUR/GBP        09087      -                09078   \n",
       " 9          NaN            EUR/JPY      1270575      -              1267500   \n",
       " 10         NaN            EUR/CHF        10858      -                10859   \n",
       " 11         NaN         Доллар США  Предложение  Спрос  Предыдущее закрытие   \n",
       " 12         NaN            USD/EUR        08162      -                08191   \n",
       " 13         NaN            USD/GBP        07415      -                07434   \n",
       " 14         NaN            USD/JPY      1036565      -              1038000   \n",
       " 15         NaN            USD/CHF        08860      -                08893   \n",
       " 16         NaN      Японская иена  Предложение  Спрос  Предыдущее закрытие   \n",
       " 17         NaN    JPY/EUR (100:1)        07900      -                07900   \n",
       " 18         NaN            JPY/GBP        00072      -                00072   \n",
       " 19         NaN            JPY/USD        00097      -                00096   \n",
       " 20         NaN    JPY/CHF (100:1)        08500      -                08600   \n",
       " 21         NaN    Фунт стерлингов  Предложение  Спрос  Предыдущее закрытие   \n",
       " 22         NaN            GBP/USD        13485      -                13448   \n",
       " 23         NaN            GBP/JPY      1397968      -              1396133   \n",
       " 24         NaN            GBP/EUR        11004      -                11015   \n",
       " 25         NaN            GBP/CHF        11949      -                11961   \n",
       " 26         NaN  Швейцарский франк  Предложение  Спрос  Предыдущее закрытие   \n",
       " 27         NaN            GBP/CHF        11949      -                11961   \n",
       " 28         NaN            EUR/CHF        10858      -                10859   \n",
       " 29         NaN    JPY/CHF (100:1)        08500      -                08600   \n",
       " 30         NaN            USD/CHF        08860      -                08893   \n",
       " 31         NaN  Украинская гривна  Предложение  Спрос  Предыдущее закрытие   \n",
       " 32         NaN            EUR/UAH       345747      -               345379   \n",
       " 33         NaN            USD/UAH       282208      -               282900   \n",
       " 34         NaN            CHF/UAH       318411      -               318044   \n",
       " 35         NaN            GBP/UAH       380613      -               380529   \n",
       " \n",
       "           %  Абсолютное значение     Время  \n",
       " 0   -0,20 %               -02029  14:06:00  \n",
       " 1   -0,08 %               -00725  14:05:00  \n",
       " 2   -0,49 %               -03586  14:05:00  \n",
       " 3   -0,33 %               -00024  14:06:00  \n",
       " 4   -0,39 %               -00441  14:05:00  \n",
       " 5   -0,10 %               -00845  14:06:00  \n",
       " 6         %  Абсолютное значение     Время  \n",
       " 7    0,36 %                00045  14:05:00  \n",
       " 8    0,11 %                00010  14:05:00  \n",
       " 9    0,24 %                03075  14:05:00  \n",
       " 10  -0,01 %               -00001  14:05:00  \n",
       " 11        %  Абсолютное значение     Время  \n",
       " 12  -0,35 %               -00029  14:06:00  \n",
       " 13  -0,27 %               -00020  14:06:00  \n",
       " 14  -0,14 %               -01435  14:05:00  \n",
       " 15  -0,37 %               -00033  14:05:00  \n",
       " 16        %  Абсолютное значение     Время  \n",
       " 17  -0,24 %                00000  14:05:00  \n",
       " 18  -0,13 %                00000  14:06:00  \n",
       " 19   0,13 %                00000  14:06:00  \n",
       " 20  -0,24 %                00000  14:05:00  \n",
       " 21        %  Абсолютное значение     Время  \n",
       " 22   0,27 %                00037  14:05:00  \n",
       " 23   0,13 %                01835  14:06:00  \n",
       " 24  -0,10 %               -00011  14:05:00  \n",
       " 25  -0,10 %               -00012  14:05:00  \n",
       " 26        %  Абсолютное значение     Время  \n",
       " 27  -0,10 %               -00012  14:05:00  \n",
       " 28  -0,01 %               -00001  14:05:00  \n",
       " 29  -0,24 %                00000  14:05:00  \n",
       " 30  -0,37 %               -00033  14:05:00  \n",
       " 31        %  Абсолютное значение     Время  \n",
       " 32   0,11 %                00368  14:06:00  \n",
       " 33  -0,24 %               -00693  14:05:00  \n",
       " 34   0,12 %                00367  14:06:00  \n",
       " 35   0,02 %                00084  14:06:00  ]"
      ]
     },
     "execution_count": 19,
     "metadata": {},
     "output_type": "execute_result"
    }
   ],
   "source": [
    "import pandas as pd\n",
    "\n",
    "# Импортируем нужную нам страницу в df\n",
    "# attrs = {'class': 'news_table'} ---> указываем какой именно блок нам нужен\n",
    "# encoding='utf-8' ---> указываем кодировку страниц для корректного отображения кириллицы\n",
    "# attrs = {'class': 'tabl_quotes', encoding='utf-8'} \n",
    "\n",
    "tables = pd.read_html(\n",
    "  'https://www.finanz.ru/valyuty/v-realnom-vremeni', attrs = {'class': 'quote_list'}, encoding='utf-8')\n",
    "\n",
    "tables\n"
   ]
  }
 ],
 "metadata": {
  "kernelspec": {
   "display_name": "Python 3",
   "language": "python",
   "name": "python3"
  },
  "language_info": {
   "codemirror_mode": {
    "name": "ipython",
    "version": 3
   },
   "file_extension": ".py",
   "mimetype": "text/x-python",
   "name": "python",
   "nbconvert_exporter": "python",
   "pygments_lexer": "ipython3",
   "version": "3.7.6"
  }
 },
 "nbformat": 4,
 "nbformat_minor": 4
}
